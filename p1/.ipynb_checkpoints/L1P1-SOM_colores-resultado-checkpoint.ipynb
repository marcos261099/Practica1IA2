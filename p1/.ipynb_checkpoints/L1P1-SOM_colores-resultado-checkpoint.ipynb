{
 "cells": [
  {
   "cell_type": "markdown",
   "metadata": {},
   "source": [
    "# Práctica 1 - Self-Organising Maps - COLORES\n",
    "## Preparación de entorno\n",
    "#### Importar librerías de código"
   ]
  },
  {
   "cell_type": "code",
   "execution_count": 630,
   "metadata": {
    "scrolled": true
   },
   "outputs": [],
   "source": [
    "# from __future__ import division\n",
    "\n",
    "import numpy as np\n",
    "from matplotlib import pyplot as plt\n",
    "from matplotlib import patches as patches\n",
    "\n",
    "%matplotlib inline\n",
    "np.random.seed(100)"
   ]
  },
  {
   "cell_type": "markdown",
   "metadata": {},
   "source": [
    "#### Dataset que se va a utilizar para el entrenamiento"
   ]
  },
  {
   "cell_type": "code",
   "execution_count": 631,
   "metadata": {},
   "outputs": [],
   "source": [
    "# Código para obtener el Dataset que se va a usar en el entrenamiento\n",
    "valor_min=0\n",
    "valor_max=256\n",
    "\n",
    "valores_color=3\n",
    "num_colores=100\n",
    "datos = np.random.randint(valor_min, valor_max, (valores_color, num_colores)) # los valores de muestreo\n",
    "datos=datos.T #hacemos la transpuesta"
   ]
  },
  {
   "cell_type": "markdown",
   "metadata": {},
   "source": [
    "## SOM Setup\n",
    "#### Variables definidas por el alumno"
   ]
  },
  {
   "cell_type": "code",
   "execution_count": 632,
   "metadata": {},
   "outputs": [],
   "source": [
    "# Inicializa tamaño del mapa de Kohonen, número de iteraciones y learning rate\n",
    "# Inicializa normalizar_datos dependiendo de si tienes que normalizar los datos o no\n",
    "lado_mapa = 25 #25*25 =625, tendremos 900 neuronas\n",
    "periodo = 32312 # las veces que se repite\n",
    "learning_rate =  0.1 # la neurona se desplaza un 10% al aprender\n",
    "normalizar_datos = True #normalizamos los datos\n"
   ]
  },
  {
   "cell_type": "markdown",
   "metadata": {},
   "source": [
    "#### A partir de este punto solo hay cálculos. No se introducen más valores \"a mano\""
   ]
  },
  {
   "cell_type": "code",
   "execution_count": 633,
   "metadata": {},
   "outputs": [],
   "source": [
    "# Establece el numero de entradas del mapa y el número de datos que se van a usar para entrenar. \n",
    "# Utiliza una función que obtenga automáticamente los valores a partir del Dataset.\n",
    "num_entradas = valores_color\n",
    "num_datos = num_colores\n",
    "\n",
    "# Calcula el vecindario inicial. Debe ser la mitad del lado del mapa de Kohonen\n",
    "vecindario = lado_mapa / 2\n",
    "\n",
    "# Normaliza los datos si fuese necesario dividiendo cada dato por el máximo en la matriz\n",
    "if normalizar_datos:\n",
    "    datos = datos/ (valor_max-1) # pasamos los valores de 0-255 a 0-1\n",
    "    \n",
    "# Crea una matriz de pesos con valores random entre 0 y 1. Usa la función random.random de la librería NumPy\n",
    "matriz_pesos = np.random.random([lado_mapa,lado_mapa,num_entradas])# lo ponemos directamente 30,30,3"
   ]
  },
  {
   "cell_type": "markdown",
   "metadata": {},
   "source": [
    "#### Funciones para entrenar/clasificar"
   ]
  },
  {
   "cell_type": "code",
   "execution_count": 634,
   "metadata": {},
   "outputs": [],
   "source": [
    "# Función para encontrar la BMU\n",
    "\"\"\"\n",
    "   Encuentra la BMU para un patrón de entrada.\n",
    "   Entradas: (patrón_de_entrada, matriz_de_pesos, número_de_entradas)\n",
    "   Salidas:  (bmu, bmu_idx) tupla donde\n",
    "               bmu: vector de pesos de la neurona ganadora\n",
    "               bum_idx: coordenadas de la neurona ganadora\n",
    "\"\"\"\n",
    "def calcular_bmu(patron_entrada, m_pesos, m):\n",
    "\n",
    "    suma=0.0\n",
    "    bmu_idx=[0,0]\n",
    "    for x in range(m_pesos.shape[0]):\n",
    "        for x2 in range(m_pesos.shape[1]):\n",
    "            Escalar_Mayor =np.sqrt(np.sum((m_pesos[x][x2] - patron_entrada) ** 2))\n",
    "            if (x==0 and x2==0) or Escalar_Mayor<Minimo:\n",
    "                Minimo=Escalar_Mayor\n",
    "\n",
    "                bmu=m_pesos[x][x2].copy()\n",
    " \n",
    "                bmu_idx[0]=x\n",
    "                bmu_idx[1]=x2  \n",
    "    return bmu,bmu_idx"
   ]
  },
  {
   "cell_type": "code",
   "execution_count": 635,
   "metadata": {},
   "outputs": [],
   "source": [
    "# Función para calcular el descenso del coeficiente de aprendizaje (eta)\n",
    "\"\"\"\n",
    "   Calcula el Learning Rate (eta) que corresponde a la i-ésima presentación.\n",
    "   Entradas: (learning_rate_inicial, iteracion, período)\n",
    "   Salidas:  learning_rate para la iteración i\n",
    "\n",
    "\"\"\"\n",
    "def variacion_learning_rate(lr_inicial, i, n_iteraciones):\n",
    "    learning_rate=lr_inicial*(1-(i/ n_iteraciones))\n",
    "    return learning_rate"
   ]
  },
  {
   "cell_type": "code",
   "execution_count": 636,
   "metadata": {},
   "outputs": [],
   "source": [
    "# Función para calcular el descenso del vecindario (v)\n",
    "\"\"\"\n",
    "   Calcula el vecindario  (v) que corresponde a la i-ésima presentación.\n",
    "   Entradas: (vecindario_inicial, iteracion, período)\n",
    "   Salidas:  lvecindario para la iteración i\n",
    "\n",
    "\"\"\"\n",
    "def variacion_vecindario(vecindario_inicial, i, n_iteraciones):\n",
    "    lvecindario=1+vecindario_inicial*(1-(i/ n_iteraciones))\n",
    "    return lvecindario"
   ]
  },
  {
   "cell_type": "code",
   "execution_count": 637,
   "metadata": {},
   "outputs": [],
   "source": [
    "# Función para calcular el descenso del coeficiente de aprendizaje (eta) en función de la distancia a la BMU\n",
    "\"\"\"\n",
    "   Calcula la amortiguación de eta en función de la distancia en el mapa entre una neurona y la BMU.\n",
    "   Entradas: (distancia_BMU, vecindario_actual)\n",
    "   Salidas:  amortiguación para la iteración\n",
    "\n",
    "\"\"\"\n",
    "def decay(distancia_BMU, vecindario_actual):\n",
    "    return np.exp(-distancia_BMU**2 / (2*vecindario_actual**2))"
   ]
  },
  {
   "cell_type": "markdown",
   "metadata": {},
   "source": [
    "#### Funciones para dibujar la salida de la red"
   ]
  },
  {
   "cell_type": "code",
   "execution_count": 638,
   "metadata": {},
   "outputs": [],
   "source": [
    "# Función para pintar una matriz de valores como colores RGB\n",
    "def pintar_mapa(matriz_valores):\n",
    "    fig = plt.figure()\n",
    "    \n",
    "    # Establece ejes\n",
    "    ax = fig.add_subplot(111, aspect='equal')\n",
    "    ax.set_xlim((0, matriz_pesos.shape[0]+1))\n",
    "    ax.set_ylim((0, matriz_pesos.shape[1]+1))\n",
    "    ax.set_title('Self-Organising Map después de %d iteraciones' % periodo)\n",
    "\n",
    "    # Dibuja los rectángulos de color RGB\n",
    "    for x in range(1, matriz_valores.shape[0] + 1):\n",
    "        for y in range(1, matriz_valores.shape[1] + 1):\n",
    "            ax.add_patch(patches.Rectangle((x-0.5, y-0.5), 1, 1,\n",
    "                         facecolor=matriz_valores[x-1,y-1,:],\n",
    "                         edgecolor='none'))\n",
    "    plt.show()"
   ]
  },
  {
   "cell_type": "markdown",
   "metadata": {},
   "source": [
    "## SOM Entrenamiento"
   ]
  },
  {
   "cell_type": "code",
   "execution_count": 639,
   "metadata": {},
   "outputs": [
    {
     "data": {
      "image/png": "[encoded data removed]",
      "text/plain": [
       "<Figure size 432x288 with 1 Axes>"
      ]
     },
     "metadata": {
      "needs_background": "light"
     },
     "output_type": "display_data"
    },
    {
     "name": "stdout",
     "output_type": "stream",
     "text": [
      "Iteración: 1000\n",
      "Iteración: 2000\n",
      "Iteración: 3000\n",
      "Iteración: 4000\n",
      "Iteración: 5000\n",
      "Iteración: 6000\n",
      "Iteración: 7000\n",
      "Iteración: 8000\n",
      "Iteración: 9000\n",
      "Iteración: 10000\n",
      "Iteración: 11000\n",
      "Iteración: 12000\n",
      "Iteración: 13000\n",
      "Iteración: 14000\n",
      "Iteración: 15000\n",
      "Iteración: 16000\n",
      "Iteración: 17000\n",
      "Iteración: 18000\n",
      "Iteración: 19000\n",
      "Iteración: 20000\n",
      "Iteración: 21000\n",
      "Iteración: 22000\n",
      "Iteración: 23000\n",
      "Iteración: 24000\n",
      "Iteración: 25000\n",
      "Iteración: 26000\n",
      "Iteración: 27000\n",
      "Iteración: 28000\n",
      "Iteración: 29000\n",
      "Iteración: 30000\n",
      "Iteración: 31000\n",
      "Iteración: 32000\n"
     ]
    },
    {
     "data": {
      "image/png": "[encoded data removed]",
      "text/plain": [
       "<Figure size 432x288 with 1 Axes>"
      ]
     },
     "metadata": {
      "needs_background": "light"
     },
     "output_type": "display_data"
    }
   ],
   "source": [
    "# Entrena la red con el dataset de entrenamiento\n",
    "pintar_mapa(matriz_pesos)\n",
    "for iteracion in range(periodo):\n",
    "    aleatorio=np.random.randint(num_datos)\n",
    "    \n",
    "    ValoresEscogidos=datos[aleatorio] # como los datos no se van a modificar no hace falta que pongas el .copy()\n",
    " \n",
    "    bmu,bmu_idx=calcular_bmu(ValoresEscogidos,matriz_pesos,num_entradas)\n",
    "\n",
    "    learning_rate_actual=variacion_learning_rate(learning_rate,iteracion,periodo)\n",
    "    matriz_pesos[bmu_idx[0]][bmu_idx[1]]+=learning_rate_actual*(ValoresEscogidos-bmu)\n",
    "    \n",
    "    vecindario_actual=variacion_vecindario(vecindario,iteracion,periodo)\n",
    "    \n",
    "    for x in range(matriz_pesos.shape[0]):\n",
    "        for x2 in range(matriz_pesos.shape[1]):\n",
    "            Coordenadas_Neurona=np.array([x, x2])\n",
    "            distancia =np.sqrt(np.sum((bmu_idx - Coordenadas_Neurona) ** 2))\n",
    "            if distancia<=vecindario_actual:\n",
    "                amortiguacion=decay(distancia,vecindario_actual)\n",
    "                matriz_pesos[x][x2]+= amortiguacion*learning_rate_actual*(ValoresEscogidos-matriz_pesos[x][x2])\n",
    "              \n",
    "    \n",
    "    if (iteracion+1)%1000==0: \n",
    "        print(\"Iteración: \" + str(iteracion+1))\n",
    "pintar_mapa(matriz_pesos)"
   ]
  },
  {
   "cell_type": "markdown",
   "metadata": {},
   "source": [
    "## SOM Clasificación"
   ]
  },
  {
   "cell_type": "code",
   "execution_count": 640,
   "metadata": {
    "scrolled": true
   },
   "outputs": [
    {
     "name": "stdout",
     "output_type": "stream",
     "text": [
      "Distancia Media: 0.0404382898061459\n",
      "Capas: 97\n"
     ]
    },
    {
     "data": {
      "image/png": "[encoded data removed]",
      "text/plain": [
       "<Figure size 432x288 with 1 Axes>"
      ]
     },
     "metadata": {
      "needs_background": "light"
     },
     "output_type": "display_data"
    }
   ],
   "source": [
    "# Clasifica los patrones de entrenamiento con la matriz de pesos recién entrenada\n",
    "\n",
    "Mapa_Clasificacion =np.zeros(matriz_pesos.shape) #guarda en cada neurona el último patrón clasificado.\n",
    "Mapa_Activacion =np.zeros((lado_mapa,lado_mapa)) #guarda el número de patrones reconocido por cada neurona\n",
    "Mapa_Distancias =np.zeros((lado_mapa,lado_mapa)) #guarda la distancia media de todos los patrones de la clase con su vector de pesos\n",
    "\n",
    "\n",
    "\n",
    "\n",
    "#########################################\n",
    "# distancia media (Error de Cuantificación)\n",
    "#########################################\n",
    "Distancia_Media=0.0\n",
    "capas=0\n",
    "for iteracion in range(num_datos):\n",
    "    ValoresEscogidos=datos[iteracion]\n",
    "    bmu,bmu_idx=calcular_bmu(ValoresEscogidos,matriz_pesos,num_entradas) \n",
    "    distancia =np.sqrt(np.sum((bmu - ValoresEscogidos) ** 2))\n",
    "    Distancia_Media+=abs(distancia)\n",
    "    \n",
    "    ###############MAPAS############\n",
    "    Mapa_Clasificacion[bmu_idx[0]][bmu_idx[1]]=ValoresEscogidos\n",
    "    if Mapa_Activacion[bmu_idx[0]][bmu_idx[1]] >0: #si ya hay un valor en este neurona hacemos la media, entre el valor antiguo y nuevo\n",
    "        Mapa_Distancias[bmu_idx[0]][bmu_idx[1]] = (Mapa_Distancias[bmu_idx[0]][bmu_idx[1]] + distancia) /2\n",
    "    else:\n",
    "        capas+=1\n",
    "        Mapa_Distancias[bmu_idx[0]][bmu_idx[1]]=distancia\n",
    "        \n",
    "    Mapa_Activacion[bmu_idx[0]][bmu_idx[1]]+=1 #indicamos que ha esta neurona ha sido reconocida por el patron\n",
    "Distancia_Media/=num_datos\n",
    "\n",
    "print(\"Distancia Media: \"+ str(Distancia_Media))\n",
    "print(\"Capas: \"+ str(capas))\n",
    "pintar_mapa(Mapa_Clasificacion)\n",
    "#print(Mapa_Activacion)\n",
    "#print(Mapa_Distancias)"
   ]
  },
  {
   "cell_type": "markdown",
   "metadata": {},
   "source": [
    "## SOM Prueba"
   ]
  },
  {
   "cell_type": "code",
   "execution_count": 641,
   "metadata": {},
   "outputs": [],
   "source": [
    "# Clasifica nuevos patrones\n",
    "#Distancia Media: 0.063774043395283\n",
    "#Capas: 89\n",
    "\n"
   ]
  },
  {
   "cell_type": "code",
   "execution_count": 642,
   "metadata": {},
   "outputs": [
    {
     "name": "stdout",
     "output_type": "stream",
     "text": [
      "[0.3184334  0.28010786 0.59328856 0.88475016]\n",
      "[0.53201399 0.76744599 0.29274358 0.89743243]\n"
     ]
    }
   ],
   "source": [
    "#prueba de porque hay que usar .copy(), ya que si no solo te crea un view\n",
    "\n",
    "a = np.random.random([2,2,4])\n",
    "b=a[0][0]\n",
    "print(b)\n",
    "a[0][0]=a[1][1]\n",
    "print(b)"
   ]
  },
  {
   "cell_type": "code",
   "execution_count": null,
   "metadata": {},
   "outputs": [],
   "source": []
  }
 ],
 "metadata": {
  "anaconda-cloud": {},
  "kernelspec": {
   "display_name": "Python 3",
   "language": "python",
   "name": "python3"
  },
  "language_info": {
   "codemirror_mode": {
    "name": "ipython",
    "version": 3
   },
   "file_extension": ".py",
   "mimetype": "text/x-python",
   "name": "python",
   "nbconvert_exporter": "python",
   "pygments_lexer": "ipython3",
   "version": "3.8.5"
  }
 },
 "nbformat": 4,
 "nbformat_minor": 2
}
