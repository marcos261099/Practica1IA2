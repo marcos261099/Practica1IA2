{
 "cells": [
  {
   "cell_type": "markdown",
   "metadata": {},
   "source": [
    "# Práctica 1 - Self-Organising Maps - COLORES\n",
    "## Preparación de entorno\n",
    "#### Importar librerías de código"
   ]
  },
  {
   "cell_type": "code",
   "execution_count": 48,
   "metadata": {
    "scrolled": true
   },
   "outputs": [],
   "source": [
    "# from __future__ import division\n",
    "\n",
    "import numpy as np\n",
    "from matplotlib import pyplot as plt\n",
    "from matplotlib import patches as patches\n",
    "\n",
    "%matplotlib inline"
   ]
  },
  {
   "cell_type": "markdown",
   "metadata": {},
   "source": [
    "#### Dataset que se va a utilizar para el entrenamiento"
   ]
  },
  {
   "cell_type": "code",
   "execution_count": 49,
   "metadata": {},
   "outputs": [],
   "source": [
    "# Código para obtener el Dataset que se va a usar en el entrenamiento\n",
    "valor_min=0\n",
    "valor_max=256\n",
    "\n",
    "valores_color=3\n",
    "num_colores=100\n",
    "datos = np.random.randint(valor_min, valor_max, (valores_color, num_colores)) # los valores de muestreo\n",
    "datos=datos.T #hacemos la transpuesta"
   ]
  },
  {
   "cell_type": "markdown",
   "metadata": {},
   "source": [
    "## SOM Setup\n",
    "#### Variables definidas por el alumno"
   ]
  },
  {
   "cell_type": "code",
   "execution_count": 50,
   "metadata": {},
   "outputs": [],
   "source": [
    "# Inicializa tamaño del mapa de Kohonen, número de iteraciones y learning rate\n",
    "# Inicializa normalizar_datos dependiendo de si tienes que normalizar los datos o no\n",
    "lado_mapa = 30 #30*30 =900, tendremos 900 neuronas\n",
    "periodo = 20000 # las veces que se repite\n",
    "learning_rate =  0.1 # la neurona se desplaza un 20% al aprender\n",
    "normalizar_datos = True #normalizamos los datos"
   ]
  },
  {
   "cell_type": "markdown",
   "metadata": {},
   "source": [
    "#### A partir de este punto solo hay cálculos. No se introducen más valores \"a mano\""
   ]
  },
  {
   "cell_type": "code",
   "execution_count": 51,
   "metadata": {},
   "outputs": [],
   "source": [
    "# Establece el numero de entradas del mapa y el número de datos que se van a usar para entrenar. \n",
    "# Utiliza una función que obtenga automáticamente los valores a partir del Dataset.\n",
    "num_entradas = valores_color\n",
    "num_datos = num_colores\n",
    "\n",
    "# Calcula el vecindario inicial. Debe ser la mitad del lado del mapa de Kohonen\n",
    "vecindario = lado_mapa / 2\n",
    "\n",
    "# Normaliza los datos si fuese necesario dividiendo cada dato por el máximo en la matriz\n",
    "if normalizar_datos:\n",
    "    datos = datos/ (valor_max-1) # pasamos los valores de 0-255 a 0-1\n",
    "    \n",
    "# Crea una matriz de pesos con valores random entre 0 y 1. Usa la función random.random de la librería NumPy\n",
    "matriz_pesos = np.random.random([lado_mapa,lado_mapa,num_entradas])# lo ponemos directamente 30,30,3"
   ]
  },
  {
   "cell_type": "markdown",
   "metadata": {},
   "source": [
    "#### Funciones para entrenar/clasificar"
   ]
  },
  {
   "cell_type": "code",
   "execution_count": 52,
   "metadata": {},
   "outputs": [],
   "source": [
    "# Función para encontrar la BMU\n",
    "\"\"\"\n",
    "   Encuentra la BMU para un patrón de entrada.\n",
    "   Entradas: (patrón_de_entrada, matriz_de_pesos, número_de_entradas)\n",
    "   Salidas:  (bmu, bmu_idx) tupla donde\n",
    "               bmu: vector de pesos de la neurona ganadora\n",
    "               bum_idx: coordenadas de la neurona ganadora\n",
    "\"\"\"\n",
    "def calcular_bmu(patron_entrada, m_pesos, m):\n",
    "    NumeroNeuronas=m_pesos.shape[0]*m_pesos.shape[1]\n",
    "    suma=0.0\n",
    "    bmu_idx=[0,0]\n",
    "    for x in range(m_pesos.shape[0]):\n",
    "        for x2 in range(m_pesos.shape[1]):\n",
    "            if normalizar_datos: #si esta normalizado, el producto escalar mayor\n",
    "                if (x==0 and x2==0) or np.sum(m_pesos[x][x2] * patron_entrada)>suma:\n",
    "                    suma=np.sum(m_pesos[x][x2] * patron_entrada)\n",
    "                    bmu=m_pesos[x][x2]\n",
    "                    bmu_idx[0]=x\n",
    "                    bmu_idx[1]=x2\n",
    "            else: #si no esta normalizado distancia euclídea menor\n",
    "                pass #hay que hacerlo  \n",
    "    return bmu,bmu_idx"
   ]
  },
  {
   "cell_type": "code",
   "execution_count": 53,
   "metadata": {},
   "outputs": [],
   "source": [
    "# Función para calcular el descenso del coeficiente de aprendizaje (eta)\n",
    "\"\"\"\n",
    "   Calcula el Learning Rate (eta) que corresponde a la i-ésima presentación.\n",
    "   Entradas: (learning_rate_inicial, iteracion, período)\n",
    "   Salidas:  learning_rate para la iteración i\n",
    "\n",
    "\"\"\"\n",
    "def variacion_learning_rate(lr_inicial, i, n_iteraciones):\n",
    "    learning_rate=lr_inicial*(1-(i/ n_iteraciones))\n",
    "    return learning_rate"
   ]
  },
  {
   "cell_type": "code",
   "execution_count": 54,
   "metadata": {},
   "outputs": [],
   "source": [
    "# Función para calcular el descenso del vecindario (v)\n",
    "\"\"\"\n",
    "   Calcula el vecindario  (v) que corresponde a la i-ésima presentación.\n",
    "   Entradas: (vecindario_inicial, iteracion, período)\n",
    "   Salidas:  lvecindario para la iteración i\n",
    "\n",
    "\"\"\"\n",
    "def variacion_vecindario(vecindario_inicial, i, n_iteraciones):\n",
    "    lvecindario=1+vecindario_inicial*(1-(i/ n_iteraciones))\n",
    "    return lvecindario"
   ]
  },
  {
   "cell_type": "code",
   "execution_count": 55,
   "metadata": {},
   "outputs": [],
   "source": [
    "# Función para calcular el descenso del coeficiente de aprendizaje (eta) en función de la distancia a la BMU\n",
    "\"\"\"\n",
    "   Calcula la amortiguación de eta en función de la distancia en el mapa entre una neurona y la BMU.\n",
    "   Entradas: (distancia_BMU, vecindario_actual)\n",
    "   Salidas:  amortiguación para la iteración\n",
    "\n",
    "\"\"\"\n",
    "def decay(distancia_BMU, vecindario_actual):\n",
    "    return np.exp(-distancia_BMU**2 / (2*vecindario_actual**2))"
   ]
  },
  {
   "cell_type": "markdown",
   "metadata": {},
   "source": [
    "#### Funciones para dibujar la salida de la red"
   ]
  },
  {
   "cell_type": "code",
   "execution_count": 56,
   "metadata": {},
   "outputs": [],
   "source": [
    "# Función para pintar una matriz de valores como colores RGB\n",
    "def pintar_mapa(matriz_valores):\n",
    "    fig = plt.figure()\n",
    "    \n",
    "    # Establece ejes\n",
    "    ax = fig.add_subplot(111, aspect='equal')\n",
    "    ax.set_xlim((0, matriz_pesos.shape[0]+1))\n",
    "    ax.set_ylim((0, matriz_pesos.shape[1]+1))\n",
    "    ax.set_title('Self-Organising Map después de %d iteraciones' % periodo)\n",
    "\n",
    "    # Dibuja los rectángulos de color RGB\n",
    "    for x in range(1, matriz_valores.shape[0] + 1):\n",
    "        for y in range(1, matriz_valores.shape[1] + 1):\n",
    "            ax.add_patch(patches.Rectangle((x-0.5, y-0.5), 1, 1,\n",
    "                         facecolor=matriz_valores[x-1,y-1,:],\n",
    "                         edgecolor='none'))\n",
    "    plt.show()"
   ]
  },
  {
   "cell_type": "markdown",
   "metadata": {},
   "source": [
    "## SOM Entrenamiento"
   ]
  },
  {
   "cell_type": "code",
   "execution_count": 57,
   "metadata": {},
   "outputs": [
    {
     "data": {
      "image/png": "[encoded data removed]",
      "text/plain": [
       "<Figure size 432x288 with 1 Axes>"
      ]
     },
     "metadata": {
      "needs_background": "light"
     },
     "output_type": "display_data"
    },
    {
     "name": "stdout",
     "output_type": "stream",
     "text": [
      "Iteración: 1000\n",
      "Iteración: 2000\n",
      "Iteración: 3000\n",
      "Iteración: 4000\n",
      "Iteración: 5000\n",
      "Iteración: 6000\n",
      "Iteración: 7000\n",
      "Iteración: 8000\n",
      "Iteración: 9000\n",
      "Iteración: 10000\n",
      "Iteración: 11000\n",
      "Iteración: 12000\n",
      "Iteración: 13000\n",
      "Iteración: 14000\n",
      "Iteración: 15000\n",
      "Iteración: 16000\n",
      "Iteración: 17000\n",
      "Iteración: 18000\n",
      "Iteración: 19000\n",
      "Iteración: 20000\n"
     ]
    },
    {
     "data": {
      "image/png": "[encoded data removed]",
      "text/plain": [
       "<Figure size 432x288 with 1 Axes>"
      ]
     },
     "metadata": {
      "needs_background": "light"
     },
     "output_type": "display_data"
    }
   ],
   "source": [
    "# Entrena la red con el dataset de entrenamiento\n",
    "pintar_mapa(matriz_pesos)\n",
    "for iteracion in range(periodo):\n",
    "    aleatorio=np.random.randint(num_datos)\n",
    "    \n",
    "    ValoresEscogidos=datos[aleatorio]\n",
    " \n",
    "    bmu,bmu_idx=calcular_bmu(ValoresEscogidos,matriz_pesos,num_entradas)    \n",
    "    \n",
    "    learning_rate_actual=variacion_learning_rate(learning_rate,iteracion,periodo)\n",
    "    matriz_pesos[bmu_idx[0]][bmu_idx[1]]+=learning_rate_actual*(ValoresEscogidos-bmu)\n",
    "    \n",
    "    vecindario_actual=variacion_vecindario(vecindario,iteracion,periodo)\n",
    "    \n",
    "    for x in range(matriz_pesos.shape[0]):\n",
    "        for x2 in range(matriz_pesos.shape[1]):\n",
    "            distancia =np.sqrt((bmu_idx[0] - x)**2 + (bmu_idx[1] - x2)**2)\n",
    "            if distancia<=vecindario_actual and distancia != 0: #esto no cambiara tmabien la BMU??????? , si distacia ==0 no deberia entrar,no?????\n",
    "                amortiguacion=decay(distancia,vecindario_actual)\n",
    "                matriz_pesos[x][x2]+= amortiguacion*learning_rate_actual*(bmu-matriz_pesos[x][x2])\n",
    "    \n",
    "    if (iteracion+1)%1000==0: \n",
    "        print(\"Iteración: \" + str(iteracion+1))\n",
    "pintar_mapa(matriz_pesos)"
   ]
  },
  {
   "cell_type": "markdown",
   "metadata": {},
   "source": [
    "## SOM Clasificación"
   ]
  },
  {
   "cell_type": "code",
   "execution_count": 58,
   "metadata": {},
   "outputs": [
    {
     "name": "stdout",
     "output_type": "stream",
     "text": [
      "0.0017498681837708218\n"
     ]
    }
   ],
   "source": [
    "# Clasifica los patrones de entrenamiento con la matriz de pesos recién entrenada\n",
    "total=0.0\n",
    "for iteracion in range(num_datos):\n",
    "    ValoresEscogidos=datos[iteracion]\n",
    "    bmu,bmu_idx=calcular_bmu(ValoresEscogidos,matriz_pesos,num_entradas)   \n",
    "    \n",
    "    distancia =np.sqrt((bmu[0] - ValoresEscogidos[0])**2 + (bmu[1] - ValoresEscogidos[1])**2 +(bmu[2] - ValoresEscogidos[2])**2)\n",
    "    total+=abs(distancia)\n",
    "total/=periodo\n",
    "print(total)"
   ]
  },
  {
   "cell_type": "markdown",
   "metadata": {},
   "source": [
    "## SOM Prueba"
   ]
  },
  {
   "cell_type": "code",
   "execution_count": 59,
   "metadata": {},
   "outputs": [],
   "source": [
    "# Clasifica nuevos patrones\n",
    "#print(datos)\n",
    "#0.0035684783155467818"
   ]
  },
  {
   "cell_type": "code",
   "execution_count": null,
   "metadata": {},
   "outputs": [],
   "source": []
  }
 ],
 "metadata": {
  "anaconda-cloud": {},
  "kernelspec": {
   "display_name": "Python 3",
   "language": "python",
   "name": "python3"
  },
  "language_info": {
   "codemirror_mode": {
    "name": "ipython",
    "version": 3
   },
   "file_extension": ".py",
   "mimetype": "text/x-python",
   "name": "python",
   "nbconvert_exporter": "python",
   "pygments_lexer": "ipython3",
   "version": "3.8.5"
  }
 },
 "nbformat": 4,
 "nbformat_minor": 2
}
