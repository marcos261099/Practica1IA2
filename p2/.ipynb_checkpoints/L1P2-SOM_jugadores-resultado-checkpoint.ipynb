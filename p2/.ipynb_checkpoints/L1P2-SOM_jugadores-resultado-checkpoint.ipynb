{
 "cells": [
  {
   "cell_type": "markdown",
   "metadata": {},
   "source": [
    "# Práctica 1 - Self-Organising Maps - COLORES\n",
    "## Preparación de entorno\n",
    "#### Importar librerías de código"
   ]
  },
  {
   "cell_type": "code",
   "execution_count": 505,
   "metadata": {
    "scrolled": true
   },
   "outputs": [],
   "source": [
    "# from __future__ import division\n",
    "\n",
    "import numpy as np\n",
    "from matplotlib import pyplot as plt\n",
    "from matplotlib import patches as patches\n",
    "from mpl_toolkits.mplot3d import Axes3D\n",
    "import pandas as pd\n",
    "#from numba import jit, cuda\n",
    "%matplotlib inline\n",
    "np.random.seed(100)"
   ]
  },
  {
   "cell_type": "markdown",
   "metadata": {},
   "source": [
    "#### Dataset que se va a utilizar para el entrenamiento"
   ]
  },
  {
   "cell_type": "code",
   "execution_count": 506,
   "metadata": {},
   "outputs": [],
   "source": [
    "DataFrame=pd.read_csv('Jugadores_Característica.csv',low_memory=False)\n",
    "IDs=DataFrame.ID.tolist()\n",
    "DataFrame=DataFrame.drop(columns=['Unnamed: 0',\"ID\"])\n",
    "datos=DataFrame.to_numpy()\n",
    "\n",
    "for index,x in enumerate(datos):\n",
    "    for i in range(datos.shape[1]):\n",
    "        if \"+\" in str(x[i]) or \"-\" in str(x[i]):\n",
    "            resultado=eval(x[i])\n",
    "            datos[index][i]=resultado\n",
    "datos = datos.astype(np.float)\n",
    "\n",
    "DataFrameDatosPersonales=pd.read_csv('Jugadores_DatosPersonales.csv')\n",
    "#DataFrame.iloc[16955] #sale que tiene 116 de stamina eso es posible???"
   ]
  },
  {
   "cell_type": "markdown",
   "metadata": {},
   "source": [
    "## SOM Setup\n",
    "#### Variables definidas por el alumno"
   ]
  },
  {
   "cell_type": "code",
   "execution_count": 507,
   "metadata": {},
   "outputs": [],
   "source": [
    "# Inicializa tamaño del mapa de Kohonen, número de iteraciones y learning rate\n",
    "# Inicializa normalizar_datos dependiendo de si tienes que normalizar los datos o no\n",
    "lado_mapa = 80 #25*25 =625, tendremos 900 neuronas\n",
    "periodo = 100000 # las veces que se repite\n",
    "learning_rate =  0.7 # cuanto se desplaza la neurona\n",
    "normalizar_datos = True #normalizamos los datos\n"
   ]
  },
  {
   "cell_type": "markdown",
   "metadata": {},
   "source": [
    "#### A partir de este punto solo hay cálculos. No se introducen más valores \"a mano\""
   ]
  },
  {
   "cell_type": "code",
   "execution_count": 508,
   "metadata": {},
   "outputs": [],
   "source": [
    "# Establece el numero de entradas del mapa y el número de datos que se van a usar para entrenar. \n",
    "# Utiliza una función que obtenga automáticamente los valores a partir del Dataset.\n",
    "num_entradas = datos.shape[1]\n",
    "num_datos = datos.shape[0]\n",
    "\n",
    "# Calcula el vecindario inicial. Debe ser la mitad del lado del mapa de Kohonen\n",
    "vecindario = lado_mapa / 2\n",
    "\n",
    "# Normaliza los datos si fuese necesario dividiendo cada dato por el máximo en la matriz\n",
    "if normalizar_datos:\n",
    "    datos = datos/ datos.max()\n",
    "    \n",
    "# Crea una matriz de pesos con valores random entre 0 y 1. Usa la función random.random de la librería NumPy\n",
    "matriz_pesos = np.random.random([lado_mapa,lado_mapa,num_entradas])# lo ponemos directamente 30,30,3"
   ]
  },
  {
   "cell_type": "markdown",
   "metadata": {},
   "source": [
    "#### Funciones para entrenar/clasificar"
   ]
  },
  {
   "cell_type": "code",
   "execution_count": 509,
   "metadata": {},
   "outputs": [],
   "source": [
    "# Función para encontrar la BMU\n",
    "\"\"\"\n",
    "   Encuentra la BMU para un patrón de entrada.\n",
    "   Entradas: (patrón_de_entrada, matriz_de_pesos, número_de_entradas)\n",
    "   Salidas:  (bmu, bmu_idx) tupla donde\n",
    "               bmu: vector de pesos de la neurona ganadora\n",
    "               bum_idx: coordenadas de la neurona ganadora\n",
    "\"\"\"\n",
    "def calcular_bmu(patron_entrada, m_pesos, Buscar_Error_Topologico):\n",
    "\n",
    "    Minimo2=0.0\n",
    "    bmu_idx=[0,0]\n",
    "    bmu_idx2=[0,0]\n",
    "    for x in range(m_pesos.shape[0]):\n",
    "        for x2 in range(m_pesos.shape[1]):\n",
    "            Dist =np.sqrt(np.sum((m_pesos[x][x2] - patron_entrada) ** 2))\n",
    "            if (x==0 and x2==0) or Dist<Minimo:\n",
    "                \n",
    "                Minimo=Dist\n",
    "\n",
    "                bmu=m_pesos[x][x2].copy()\n",
    " \n",
    "                bmu_idx[0]=x\n",
    "                bmu_idx[1]=x2\n",
    "            elif Minimo2==0.0 or Dist<Minimo2:\n",
    "                Minimo2=Dist\n",
    "                bmu_idx2[0]=x #se guarda la antigua neurona que era mas cercana, acabara siendo la 2 neurona \n",
    "                bmu_idx2[1]=x2 # mas cerca a la patron de entrada, esto lo acemos para el error topologico\n",
    "               \n",
    "    if Buscar_Error_Topologico:\n",
    "        return bmu_idx2,bmu_idx\n",
    "    return bmu,bmu_idx"
   ]
  },
  {
   "cell_type": "code",
   "execution_count": 510,
   "metadata": {},
   "outputs": [],
   "source": [
    "# Función para calcular el descenso del coeficiente de aprendizaje (eta)\n",
    "\"\"\"\n",
    "   Calcula el Learning Rate (eta) que corresponde a la i-ésima presentación.\n",
    "   Entradas: (learning_rate_inicial, iteracion, período)\n",
    "   Salidas:  learning_rate para la iteración i\n",
    "\n",
    "\"\"\"\n",
    "\n",
    "def variacion_learning_rate(lr_inicial, i, n_iteraciones):\n",
    "    learning_rate=lr_inicial*(1-(i/ n_iteraciones))\n",
    "    return learning_rate"
   ]
  },
  {
   "cell_type": "code",
   "execution_count": 511,
   "metadata": {},
   "outputs": [],
   "source": [
    "# Función para calcular el descenso del vecindario (v)\n",
    "\"\"\"\n",
    "   Calcula el vecindario  (v) que corresponde a la i-ésima presentación.\n",
    "   Entradas: (vecindario_inicial, iteracion, período)\n",
    "   Salidas:  lvecindario para la iteración i\n",
    "\n",
    "\"\"\"\n",
    "\n",
    "def variacion_vecindario(vecindario_inicial, i, n_iteraciones):\n",
    "    lvecindario=1+vecindario_inicial*(1-(i/ n_iteraciones))\n",
    "    return lvecindario"
   ]
  },
  {
   "cell_type": "code",
   "execution_count": 512,
   "metadata": {},
   "outputs": [],
   "source": [
    "# Función para calcular el descenso del coeficiente de aprendizaje (eta) en función de la distancia a la BMU\n",
    "\"\"\"\n",
    "   Calcula la amortiguación de eta en función de la distancia en el mapa entre una neurona y la BMU.\n",
    "   Entradas: (distancia_BMU, vecindario_actual)\n",
    "   Salidas:  amortiguación para la iteración\n",
    "\n",
    "\"\"\"\n",
    "def decay(distancia_BMU, vecindario_actual):\n",
    "    return np.exp(-distancia_BMU**2 / (2*vecindario_actual**2))"
   ]
  },
  {
   "cell_type": "markdown",
   "metadata": {},
   "source": [
    "#### Funciones para dibujar la salida de la red"
   ]
  },
  {
   "cell_type": "code",
   "execution_count": 513,
   "metadata": {},
   "outputs": [],
   "source": [
    "# aqui pintaremos el histeriograma 3D\n",
    "\n",
    "\n",
    "def histograma3D(datos):\n",
    "    fig = plt.figure(figsize=(10,8))\n",
    "    ax = fig.add_subplot(111, projection='3d')\n",
    "\n",
    "    #Creamos como una malla X-Y, se puede pensar como el suelo\n",
    "    x_data, y_data = np.meshgrid( np.arange(datos.shape[1]), np.arange(datos.shape[0]) )\n",
    "\n",
    "    '''\n",
    "    Se necesitasn arrays planos tridimensionales (eso es lo que espera ax.bar3d), por eso hacemos el .flatten()\n",
    "    x_data=cordenadas eje x\n",
    "    y_data=cordenadas eje y\n",
    "    z_data=cordenadas eje z\n",
    "    '''\n",
    "\n",
    "    x_data = x_data.T.flatten()\n",
    "    y_data = y_data.T.flatten()\n",
    "    z_data = datos.flatten()\n",
    " \n",
    "    colors = plt.cm.jet(z_data/float(datos.max())) # se crea una  matrix Lado*lado ,4 ; el 4 es porque esta en formato rgba\n",
    "    #ejemplo si el hay 900 neuronas(30*30) , se crea una matriz de [900,4] y depedniedno del valor que tenga el mapa\n",
    "    # de activacion se le dara un color u otro (en formato rgba): ej: para todos los valors =0, sera el azul, para todos los de \n",
    "    # valor 1, sera el verde y así...\n",
    "    \n",
    "    ax.bar3d( x_data,y_data,np.zeros(len(z_data)),0.7, 0.7, z_data, color=colors) \n",
    "    # Los dos valores numericos, representan el grosor de la barra, el primero respecto al eje x y el otro respecto al z\n",
    "  \n",
    "    ax.set_xlabel('Neuronas')\n",
    "    ax.set_ylabel('Neuronas')\n",
    "    ax.set_zlabel('Nº de veces activada')\n",
    "    plt.show()\n"
   ]
  },
  {
   "cell_type": "markdown",
   "metadata": {},
   "source": [
    "## SOM Entrenamiento"
   ]
  },
  {
   "cell_type": "code",
   "execution_count": 514,
   "metadata": {},
   "outputs": [
    {
     "ename": "TypeError",
     "evalue": "calcular_bmu() missing 1 required positional argument: 'Minimo'",
     "output_type": "error",
     "traceback": [
      "\u001b[1;31m---------------------------------------------------------------------------\u001b[0m",
      "\u001b[1;31mTypeError\u001b[0m                                 Traceback (most recent call last)",
      "\u001b[1;32m<ipython-input-514-37131ac611de>\u001b[0m in \u001b[0;36m<module>\u001b[1;34m\u001b[0m\n\u001b[0;32m      5\u001b[0m     \u001b[0mValoresEscogidos\u001b[0m\u001b[1;33m=\u001b[0m\u001b[0mdatos\u001b[0m\u001b[1;33m[\u001b[0m\u001b[0maleatorio\u001b[0m\u001b[1;33m]\u001b[0m \u001b[1;31m# como los datos no se van a modificar no hace falta que pongas el .copy()\u001b[0m\u001b[1;33m\u001b[0m\u001b[1;33m\u001b[0m\u001b[0m\n\u001b[0;32m      6\u001b[0m \u001b[1;33m\u001b[0m\u001b[0m\n\u001b[1;32m----> 7\u001b[1;33m     \u001b[0mbmu\u001b[0m\u001b[1;33m,\u001b[0m\u001b[0mbmu_idx\u001b[0m\u001b[1;33m=\u001b[0m\u001b[0mcalcular_bmu\u001b[0m\u001b[1;33m(\u001b[0m\u001b[0mValoresEscogidos\u001b[0m\u001b[1;33m,\u001b[0m\u001b[0mmatriz_pesos\u001b[0m\u001b[1;33m,\u001b[0m\u001b[1;32mFalse\u001b[0m\u001b[1;33m)\u001b[0m\u001b[1;33m\u001b[0m\u001b[1;33m\u001b[0m\u001b[0m\n\u001b[0m\u001b[0;32m      8\u001b[0m \u001b[1;33m\u001b[0m\u001b[0m\n\u001b[0;32m      9\u001b[0m     \u001b[0mlearning_rate_actual\u001b[0m\u001b[1;33m=\u001b[0m\u001b[0mvariacion_learning_rate\u001b[0m\u001b[1;33m(\u001b[0m\u001b[0mlearning_rate\u001b[0m\u001b[1;33m,\u001b[0m\u001b[0miteracion\u001b[0m\u001b[1;33m,\u001b[0m\u001b[0mperiodo\u001b[0m\u001b[1;33m)\u001b[0m\u001b[1;33m\u001b[0m\u001b[1;33m\u001b[0m\u001b[0m\n",
      "\u001b[1;31mTypeError\u001b[0m: calcular_bmu() missing 1 required positional argument: 'Minimo'"
     ]
    }
   ],
   "source": [
    "# Entrena la red con el dataset de entrenamiento\n",
    "for iteracion in range(periodo):\n",
    "    aleatorio=np.random.randint(num_datos)\n",
    "    \n",
    "    ValoresEscogidos=datos[aleatorio] # como los datos no se van a modificar no hace falta que pongas el .copy()\n",
    " \n",
    "    bmu,bmu_idx=calcular_bmu(ValoresEscogidos,matriz_pesos,False)\n",
    "\n",
    "    learning_rate_actual=variacion_learning_rate(learning_rate,iteracion,periodo)\n",
    "    matriz_pesos[bmu_idx[0]][bmu_idx[1]]+=learning_rate_actual*(ValoresEscogidos-bmu)\n",
    "    \n",
    "    vecindario_actual=variacion_vecindario(vecindario,iteracion,periodo)\n",
    "    \n",
    "    for x in range(matriz_pesos.shape[0]):\n",
    "        for x2 in range(matriz_pesos.shape[1]):\n",
    "            Coordenadas_Neurona=np.array([x, x2])\n",
    "            distancia =np.sqrt(np.sum((bmu_idx - Coordenadas_Neurona) ** 2))\n",
    "            if distancia<=vecindario_actual:\n",
    "                amortiguacion=decay(distancia,vecindario_actual)\n",
    "                matriz_pesos[x][x2]+= amortiguacion*learning_rate_actual*(ValoresEscogidos-matriz_pesos[x][x2])\n",
    "              \n",
    "    \n",
    "    if (iteracion+1)%100==0: \n",
    "        print(\"Iteración: \" + str(iteracion+1))"
   ]
  },
  {
   "cell_type": "markdown",
   "metadata": {},
   "source": [
    "## SOM Clasificación"
   ]
  },
  {
   "cell_type": "code",
   "execution_count": null,
   "metadata": {
    "scrolled": true
   },
   "outputs": [],
   "source": [
    "# Clasifica los patrones de entrenamiento con la matriz de pesos recién entrenada\n",
    "def clasificacion(datos,num_datos):\n",
    "    Mapa_Clasificacion =np.zeros((lado_mapa,lado_mapa),dtype=object) #guarda en cada neurona el último patrón clasificado.\n",
    "    Mapa_Activacion =np.zeros((lado_mapa,lado_mapa)) #guarda el número de patrones reconocido por cada neurona\n",
    "    Mapa_Distancias =np.zeros((lado_mapa,lado_mapa)) #guarda la distancia media de todos los patrones de la clase con su vector de pesos\n",
    "\n",
    "\n",
    "\n",
    "\n",
    "\n",
    "    Distancia_Media=0.0\n",
    "    Error_Topologico=0.0\n",
    "    capas=0\n",
    "    for iteracion in range(num_datos):\n",
    "        ValoresEscogidos=datos[iteracion]\n",
    "        bmu_idx2,bmu_idx=calcular_bmu(ValoresEscogidos,matriz_pesos,True) \n",
    "        #########################################\n",
    "        #distancia media (Error de Cuantificación)\n",
    "        #########################################\n",
    "        distancia =np.sqrt(np.sum((matriz_pesos[bmu_idx[0]][bmu_idx[1]] - ValoresEscogidos) ** 2))\n",
    "        Distancia_Media+=abs(distancia)\n",
    "\n",
    "        #########################################\n",
    "        #Error topológico\n",
    "        #########################################    \n",
    "        Segunda_BMU=np.array([bmu_idx2[0], bmu_idx2[1]]) # lo tranfromamos en un numpy array, para poder restar\n",
    "        Distancia_Neuronas_Adyacentes= np.sqrt(np.sum((bmu_idx - Segunda_BMU) ** 2))\n",
    "        if Distancia_Neuronas_Adyacentes>1.5:#las que esta encima y a los lados su distancia es 1, las que estan en diagonal\n",
    "            Error_Topologico+=1   #su distancia es de 1.41, por eso ponemos > 1.5 para que nos coga todas menos esas\n",
    "\n",
    "\n",
    "        ###############MAPAS############\n",
    "        NombreJugador=DataFrameDatosPersonales.loc[DataFrameDatosPersonales['ID'] == IDs[iteracion]].Name.tolist()[0]\n",
    "        if Mapa_Activacion[bmu_idx[0]][bmu_idx[1]] >0: #si ya hay un valor en este neurona hacemos la media, entre el valor antiguo y nuevo\n",
    "            Mapa_Distancias[bmu_idx[0]][bmu_idx[1]] = (Mapa_Distancias[bmu_idx[0]][bmu_idx[1]] + distancia) /2\n",
    "            Mapa_Clasificacion[bmu_idx[0]][bmu_idx[1]]+=[NombreJugador]\n",
    "        else:\n",
    "            capas+=1\n",
    "            Mapa_Distancias[bmu_idx[0]][bmu_idx[1]]=distancia\n",
    "            Mapa_Clasificacion[bmu_idx[0]][bmu_idx[1]]=[NombreJugador]\n",
    "\n",
    "        Mapa_Activacion[bmu_idx[0]][bmu_idx[1]]+=1 #indicamos que ha esta neurona ha sido reconocida por el patron\n",
    "\n",
    "    Distancia_Media/=num_datos\n",
    "    Error_Topologico/=num_datos\n",
    "    print(\"Error de Cuantificación: \"+ str(Distancia_Media))\n",
    "    print(\"Error Topológico: \"+ str(Error_Topologico))\n",
    "    print(\"Capas: \"+ str(capas))\n",
    "    print(\"\\nMapa de Clasificación: \")\n",
    "    print(Mapa_Clasificacion)\n",
    "    print(\"Mapa de Activación: \")\n",
    "    histograma3D(Mapa_Activacion)\n",
    "    print(\"\\n\\nMapa de Distancias:\\n\\n\"+ str(Mapa_Distancias))\n",
    "    return Mapa_Clasificacion"
   ]
  },
  {
   "cell_type": "code",
   "execution_count": null,
   "metadata": {},
   "outputs": [],
   "source": [
    "pr=clasificacion(datos,num_datos)"
   ]
  },
  {
   "cell_type": "markdown",
   "metadata": {},
   "source": [
    "## SOM Prueba"
   ]
  },
  {
   "cell_type": "code",
   "execution_count": null,
   "metadata": {},
   "outputs": [],
   "source": [
    "'''\n",
    "u=0\n",
    "u2=1\n",
    "for x in range(40):\n",
    "    for x2 in range(40):\n",
    "        try:\n",
    "            if u<len(pr[x][x2]):\n",
    "                u=len(pr[x][x2])\n",
    "                print(x)\n",
    "                print(x2)\n",
    "        except:\n",
    "            pass\n",
    "print(u)\n",
    "'''\n",
    "print((pr[3][0]))"
   ]
  },
  {
   "cell_type": "code",
   "execution_count": null,
   "metadata": {},
   "outputs": [],
   "source": []
  }
 ],
 "metadata": {
  "anaconda-cloud": {},
  "kernelspec": {
   "display_name": "Python 3",
   "language": "python",
   "name": "python3"
  },
  "language_info": {
   "codemirror_mode": {
    "name": "ipython",
    "version": 3
   },
   "file_extension": ".py",
   "mimetype": "text/x-python",
   "name": "python",
   "nbconvert_exporter": "python",
   "pygments_lexer": "ipython3",
   "version": "3.8.5"
  }
 },
 "nbformat": 4,
 "nbformat_minor": 2
}
